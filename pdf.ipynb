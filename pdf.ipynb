{
  "nbformat": 4,
  "nbformat_minor": 0,
  "metadata": {
    "colab": {
      "provenance": [],
      "authorship_tag": "ABX9TyPzdzjJRbzt9nVtjauZsApk",
      "include_colab_link": true
    },
    "kernelspec": {
      "name": "python3",
      "display_name": "Python 3"
    },
    "language_info": {
      "name": "python"
    }
  },
  "cells": [
    {
      "cell_type": "markdown",
      "metadata": {
        "id": "view-in-github",
        "colab_type": "text"
      },
      "source": [
        "<a href=\"https://colab.research.google.com/github/Jokeronii/Random/blob/main/pdf.ipynb\" target=\"_parent\"><img src=\"https://colab.research.google.com/assets/colab-badge.svg\" alt=\"Open In Colab\"/></a>"
      ]
    },
    {
      "cell_type": "code",
      "execution_count": 1,
      "metadata": {
        "colab": {
          "base_uri": "https://localhost:8080/"
        },
        "id": "PQS4nrN_8m9G",
        "outputId": "1984abe2-49e6-40aa-c7bd-aaa8d36cb197"
      },
      "outputs": [
        {
          "output_type": "stream",
          "name": "stdout",
          "text": [
            "Collecting pypdf\n",
            "  Downloading pypdf-4.3.1-py3-none-any.whl.metadata (7.4 kB)\n",
            "Requirement already satisfied: typing_extensions>=4.0 in /usr/local/lib/python3.10/dist-packages (from pypdf) (4.12.2)\n",
            "Downloading pypdf-4.3.1-py3-none-any.whl (295 kB)\n",
            "\u001b[2K   \u001b[90m━━━━━━━━━━━━━━━━━━━━━━━━━━━━━━━━━━━━━━━━\u001b[0m \u001b[32m295.8/295.8 kB\u001b[0m \u001b[31m1.9 MB/s\u001b[0m eta \u001b[36m0:00:00\u001b[0m\n",
            "\u001b[?25hInstalling collected packages: pypdf\n",
            "Successfully installed pypdf-4.3.1\n"
          ]
        }
      ],
      "source": [
        "!pip install pypdf"
      ]
    },
    {
      "cell_type": "code",
      "source": [
        "from pypdf import PdfReader"
      ],
      "metadata": {
        "id": "3kjA6DcU_hkG"
      },
      "execution_count": 2,
      "outputs": []
    },
    {
      "cell_type": "markdown",
      "source": [
        "count pdf pages"
      ],
      "metadata": {
        "id": "3tADnt3eBq_2"
      }
    },
    {
      "cell_type": "code",
      "source": [
        "reader = PdfReader(\"/content/JapanEarthquakeTsunami_OneYear.pdf\")\n",
        "reader.get_num_pages()"
      ],
      "metadata": {
        "colab": {
          "base_uri": "https://localhost:8080/"
        },
        "id": "we-k46-Q_TuY",
        "outputId": "719a91ca-5049-4f97-b4ed-3caaf7a084fa"
      },
      "execution_count": 6,
      "outputs": [
        {
          "output_type": "execute_result",
          "data": {
            "text/plain": [
              "8"
            ]
          },
          "metadata": {},
          "execution_count": 6
        }
      ]
    },
    {
      "cell_type": "markdown",
      "source": [
        "extract text from pdf"
      ],
      "metadata": {
        "id": "felGKJtDCd9e"
      }
    },
    {
      "cell_type": "code",
      "source": [
        "page = reader.pages[0]\n",
        "text = page.extract_text()\n",
        "print(text)"
      ],
      "metadata": {
        "colab": {
          "base_uri": "https://localhost:8080/"
        },
        "id": "-TGTv4jGBvDe",
        "outputId": "826efcf8-1843-4f75-a7a5-7a0e50105dee"
      },
      "execution_count": 7,
      "outputs": [
        {
          "output_type": "stream",
          "name": "stdout",
          "text": [
            "To our generous supporters, saying ‘thank you’ never seems like \n",
            "enough. One year ago, millions of people across the globe stared at \n",
            "their televisions, horrified by the destruction wrought by the \n",
            "massive earthquake and tsunami that struck Japan. At that moment, it was difficult to see beyond the immediate need for shelter, food, medical care and search and rescue operations to find \n",
            "those still missing. With support from donors like you, one year \n",
            "later, Japan is firmly on the path to recovery.\n",
            "During my visit to Japan in April, I was amazed by the resiliency of \n",
            "those I met. Those whose lives had just been devastated were quietly making the best of a difficult situation. Donations to the \n",
            "American Red Cross have already helped hundreds of thousands of disaster \n",
            "survivors and are serving a critical role in recovery plans. Whether it’s offering emotional support to someone struggling with trauma or providing a rice cooker to a family moving into a new home, the Red Cross is helping the Japanese people look to the future. \n",
            "Responding to the massive devastation in Japan has truly been the work of many hands. With generous \n",
            "support from donors around the world, thousands of volunteers and experts have put their training and \n",
            "talent to use to meet the enormous needs in Japan. Red Cross response activities have transitioned from \n",
            "providing emergency medical care to helping reconstruct the health care infrastructure. Donations to the American Red Cross are helping to rebuild temporary and permanent hospitals, rebuild a Red Cross nursing school and strengthen Red Cross disaster response capacity. Thanks to your support, the Red Cross \n",
            "was first able to bring emergency comfort to those living in shelters and later able to provide the supplies \n",
            "and services needed to make temporary housing feel like home.\n",
            "One year after the disaster, the American Red Cross has raised $312 million, and the vast majority of that \n",
            "money has already been used in Japan for relief and recovery operations. We remain dedicated to \n",
            "providing targeted, well-structured aid to the Japanese people and will continue to stand with the Japanese Red Cross as they assist those in need for years to come. I hope you are proud of the work you will read \n",
            "about in this report—work you made possible. \n",
            "Sincerely,  \n",
            "Gail McGovern\n",
            "President and CEOJAPAN EARTHQUAKE AND TSUNAMI\n",
            "ONE-YEAR  UPDATE  • MARCH 2012\n",
            "A Message From the President and CEO\n",
            "\n"
          ]
        }
      ]
    }
  ]
}